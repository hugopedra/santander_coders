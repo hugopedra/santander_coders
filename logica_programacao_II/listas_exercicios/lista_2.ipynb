{
 "cells": [
  {
   "attachments": {},
   "cell_type": "markdown",
   "metadata": {},
   "source": [
    "**1) Retorna consoantes**\n",
    "\n",
    "Muitas vezes quando estamos trabalhando com strings, pode ser bem útil usarmos compreensão de listas para processar caractere a caractere. Sabendo disso, crie uma função encontraConsoantes que retorna uma string com todas as consoantes (e apenas as consoantes!) de uma dada frase de input."
   ]
  },
  {
   "cell_type": "code",
   "execution_count": 1,
   "metadata": {},
   "outputs": [
    {
     "data": {
      "text/plain": [
       "'YllwYkslkyllngndywnngndystrdythyydldwhltngykyyms'"
      ]
     },
     "execution_count": 1,
     "metadata": {},
     "output_type": "execute_result"
    }
   ],
   "source": [
    "def encontraConsoantes(listaStrings):\n",
    "\tstr_consoantes = 'bcdfghjklmnpqrstvwxyzBCDFGHJKLMNPQRSTVWXYZ'\n",
    "\treturn ''.join(letra for letra in listaStrings if letra in str_consoantes)\n",
    "\n",
    "listaStrings = \"Yellow Yaks like yelling and yawning and yesturday they yodled while eating yuky yams\"\n",
    "encontraConsoantes(listaStrings)"
   ]
  },
  {
   "attachments": {},
   "cell_type": "markdown",
   "metadata": {},
   "source": [
    "**2) Remoção de espaços extras de strings**\n",
    "\n",
    "É comum em sistemas de cadastro, os clientes preencherem dados com caracteres ou espaços indesejáveis. Sendo assim, implemente uma função remove_espaco(listaStrings) que recebe uma lista de strings e retire espaços extras que possam haver no início, meio ou no fim de uma string.\n",
    "\n",
    "Por exemplo,\n",
    "\n",
    "entrada: [\"  string\", \"  exemplo  \", \"do   exercício\"] saída: [\"string\", \"exemplo\", \"do exercício\"]"
   ]
  },
  {
   "cell_type": "code",
   "execution_count": 2,
   "metadata": {},
   "outputs": [
    {
     "data": {
      "text/plain": [
       "['letscode', 'ada', 'computing', 'machine learning']"
      ]
     },
     "execution_count": 2,
     "metadata": {},
     "output_type": "execute_result"
    }
   ],
   "source": [
    "def remove_espacos(listaStrings):\n",
    "\treturn [\" \".join(string.split()) for string in listaStrings]\n",
    "\n",
    "listaStrings = [\" letscode\", \"ada\", \" computing\", \"machine   learning\"]\n",
    "remove_espacos(listaStrings)"
   ]
  },
  {
   "attachments": {},
   "cell_type": "markdown",
   "metadata": {},
   "source": [
    "**3) Filtrando elementos por funções lambda**\n",
    "\n",
    "Em programação, temos que pensar não apenas na implementação do código propriamente dita para execução correta da tarefa desejada, como também na melhor forma de realizar esta implementação. Com isso, paradigmas de programação foram criados para auxiliar o programador a pensar diferente.\n",
    "\n",
    "Um desses paradigmas é a programação funcional, cujo objetivo é aumentar o determinismo do programa de forma que, caso o programa seja escalável e se torne muito grande, os desenvolvedores não percam o controle do código. Uma forma de fazer programação funcional é por meio de funções lambdas, também conhecidas como \"funções anônimas\", tendo esse nome porque não precisam ser declaradas com um nome.\n",
    "\n",
    "Sabendo disso, crie uma função filtraElementos() que recebe uma lista e utiliza função lambda para filtrar os elementos maiores que 10, ou seja, a função deve retornar uma lista apenas com estes elementos maiores que 10.\n",
    "\n",
    "OBS: em um cenário real, a função filtraElementos() seria utilizada para outras funcionalidades também além da utilização da lambda, de forma a melhorar o determinismo do código."
   ]
  },
  {
   "cell_type": "code",
   "execution_count": 3,
   "metadata": {},
   "outputs": [
    {
     "data": {
      "text/plain": [
       "[127, 24, 26, 135, 22]"
      ]
     },
     "execution_count": 3,
     "metadata": {},
     "output_type": "execute_result"
    }
   ],
   "source": [
    "def filtraElementos(listaA):\n",
    "\tmaior_10 = lambda listaA: [item for item in listaA if item > 10]\n",
    "\treturn maior_10(listaA)\n",
    "\n",
    "listaA = [127, 24, 26, 135, 22]\n",
    "filtraElementos(listaA)"
   ]
  },
  {
   "attachments": {},
   "cell_type": "markdown",
   "metadata": {},
   "source": [
    "**4) Expressões geradoras para tuplas**\n",
    "\n",
    "Também é possível utilizar expressão geradoras para construir tuplas. Sendo assim, crie a função getQuadrado() que recebe uma tupla de elementos numéricos, e retorna uma tupla com o quadrado de cada elemento da tupla original."
   ]
  },
  {
   "cell_type": "code",
   "execution_count": 4,
   "metadata": {},
   "outputs": [
    {
     "data": {
      "text/plain": [
       "(1, 4, 9, 16, 25)"
      ]
     },
     "execution_count": 4,
     "metadata": {},
     "output_type": "execute_result"
    }
   ],
   "source": [
    "def getQuadrado(tuplaA):\n",
    "\tnum_quadrados = (num**2 for num in tuplaA)\n",
    "\treturn tuple(num_quadrados)\n",
    "\n",
    "tuplaA = (1, 2, 3, 4, 5)\n",
    "getQuadrado(tuplaA)"
   ]
  },
  {
   "attachments": {},
   "cell_type": "markdown",
   "metadata": {},
   "source": [
    "**5) Encontrando números divisíveis por 7**\n",
    "\n",
    "Uma forma \"pythonica\" de iterarmos por listas é por meio de compreensão de listas, que substitui o uso de um laço de repetição for tal como implementamos tradicionalmente para a criação de novas listas.\n",
    "\n",
    "Sabendo disso, digamos que em um sistema desejemos buscar, entre 1000 usuários, apenas aqueles cujo ID é divisível por 7. Faça uma função numerosDiv7() para este sistema que receba uma lista A de 1000 elementos e retorne uma lista apenas com os elementos de A que são divisíveis por 7.\n",
    "\n",
    "OBS: Caso existam elementos repetidos na lista, a saída deverá exibir apenas os elementos únicos divisíveis por 7. E se não houver elementos divisíveis por 7, o programa deve retornar uma lista vazia."
   ]
  },
  {
   "cell_type": "code",
   "execution_count": 5,
   "metadata": {},
   "outputs": [
    {
     "data": {
      "text/plain": [
       "[14, 21, 70, 105, 231, 294, 378, 392, 588, 637, 658, 693, 812, 854, 889, 931]"
      ]
     },
     "execution_count": 5,
     "metadata": {},
     "output_type": "execute_result"
    }
   ],
   "source": [
    "def numerosDiv7(listaA):\n",
    "\tlista_tratada = sorted(set(listaA))\n",
    "\tlista_with_div_7 = [item for item in lista_tratada if item % 7 == 0]\n",
    "\n",
    "\treturn lista_with_div_7\n",
    "\n",
    "listaA = [230, 223, 356, 892, 281, 21, 854, 658, 394, 548, 677, 362, 213, 479, 812, 160, 34, 356, 454, 571, 375, 64, 218, 972, 472, 231, 772, 550, 748, 212, 378, 151, 433, 719, 23, 19, 323, 599, 393, 303, 889, 774, 646, 705, 656, 453, 282, 105, 588, 637, 719, 542, 361, 11, 454, 998, 559, 800, 599, 324, 55, 345, 745, 477, 157, 968, 33, 718, 502, 173, 572, 596, 255, 134, 931, 40, 846, 294, 879, 803, 422, 14, 812, 139, 307, 392, 278, 479, 191, 334, 889, 988, 244, 61, 790, 70, 394, 693, 85, 10]\n",
    "numerosDiv7(listaA)"
   ]
  },
  {
   "attachments": {},
   "cell_type": "markdown",
   "metadata": {},
   "source": [
    "**6) Dicionário cujos valores são listas**\n",
    "\n",
    "Em determinadas situações, é necessário agrupar informações de acordo com alguma dada característica para facilitar o acesso a essas informações. Uma estrutura em python que armazena informações seguindo essa organização são dicionários.\n",
    "\n",
    "Um exemplo de uso comum de dicionários são cadastros de clientes, em que, por exemplo, um elemento do dicionário pode ser o nome dos clientes, outro elemento o emprego outro o estado de habitação. Quando quisermos utilizar apenas as informações de estado, selecionamos apenas este elemento do dicionário, utilizando a respectiva chave como indexador do dicionário.\n",
    "\n",
    "Sabendo disso, crie uma função mediaPrecoCelular() que receba um dicionário que possui a chave \"valor\", e retorne uma lista com: a média dos valores existentes nesta chave, o celular mais barato, e o mais caro, nesta ordem."
   ]
  },
  {
   "cell_type": "code",
   "execution_count": 7,
   "metadata": {},
   "outputs": [
    {
     "data": {
      "text/plain": [
       "[790.56, 248.52, 1000.0]"
      ]
     },
     "execution_count": 7,
     "metadata": {},
     "output_type": "execute_result"
    }
   ],
   "source": [
    "def mediaPrecoCelular(dictCelulares):\n",
    "\tvalores = dictCelulares[\"valor\"]\n",
    "\t\n",
    "\tmedia = round(sum(valores) / len(valores), 2)\n",
    "\t\n",
    "\tmais_barato = min(valores)\n",
    "\tmais_caro = max(valores)\n",
    "\t\n",
    "\treturn [media, mais_barato, mais_caro]\n",
    "\n",
    "dictCelulares = {\"valor\": [900.2, 750.0, 965.65, 1000.0, 878.99, 248.52]}\n",
    "mediaPrecoCelular(dictCelulares)"
   ]
  },
  {
   "attachments": {},
   "cell_type": "markdown",
   "metadata": {},
   "source": [
    "**7) Usando Dicionário para Calcular Quadrado de Números**\n",
    "\n",
    "Dicionários são estruturas de dados muito úteis e flexíveis, podendo, inclusive, ser construídos a partir de outras estruturas, como listas.\n",
    "\n",
    "Sabendo disso, crie uma função dicionarioQuadrados() que receba uma lista números e gera um dicionário, de forma que cada chave do dicionário seja um elemento da lista e cada valor seja este elemento ao quadrado."
   ]
  },
  {
   "cell_type": "code",
   "execution_count": 8,
   "metadata": {},
   "outputs": [
    {
     "data": {
      "text/plain": [
       "{1: 1, 2: 4, 3: 9, 4: 16, 5: 25}"
      ]
     },
     "execution_count": 8,
     "metadata": {},
     "output_type": "execute_result"
    }
   ],
   "source": [
    "def dicionarioQuadrados(listaA):\n",
    "\tdict_quadrados = {item: item**2 for item in listaA}\t\n",
    "\treturn dict_quadrados\n",
    "\n",
    "listaA = [1, 2, 3, 4, 5]\n",
    "dicionarioQuadrados(listaA)"
   ]
  },
  {
   "attachments": {},
   "cell_type": "markdown",
   "metadata": {},
   "source": [
    "**8) Compreensão de dicionários**\n",
    "\n",
    "Da mesma forma que utilizamos a sintaxe \"pythonica\" de compreensão de listas, podemos fazer uma estrutura semelhante para gerar dicionários. Sendo assim, crie uma função mediaAlunosParaDicionario() que receba uma lista de listas, em que o primeiro elemento é uma lista com os nomes dos alunos; e o segundo elemento é uma lista com suas respectivas médias. Utilizando compreensão de dicionários, armazene estes dados no dicionário de forma que cada aluno seja a chave e sua média seja o valor.\n",
    "\n",
    "OBS: caso a nota não esteja numérica, é necessário tratar os valores para tipos numéricos!"
   ]
  },
  {
   "cell_type": "code",
   "execution_count": 9,
   "metadata": {},
   "outputs": [
    {
     "data": {
      "text/plain": [
       "{'João': 8.5, 'Maria': 8.0, 'Arthur': 9.5}"
      ]
     },
     "execution_count": 9,
     "metadata": {},
     "output_type": "execute_result"
    }
   ],
   "source": [
    "def mediaAlunosParaDicionario(listaAlunos):\n",
    "\tdict_media_alunos = {nome: float(media) for nome, media in zip(listaAlunos[0], listaAlunos[1])}\n",
    "\treturn dict_media_alunos\n",
    "\n",
    "listaAlunos = [\n",
    "\t['João', 'Maria', 'Arthur'],\n",
    "\t[8.5, 8, 9.5],\n",
    "]\n",
    "mediaAlunosParaDicionario(listaAlunos)"
   ]
  }
 ],
 "metadata": {
  "kernelspec": {
   "display_name": "Python 3",
   "language": "python",
   "name": "python3"
  },
  "language_info": {
   "codemirror_mode": {
    "name": "ipython",
    "version": 3
   },
   "file_extension": ".py",
   "mimetype": "text/x-python",
   "name": "python",
   "nbconvert_exporter": "python",
   "pygments_lexer": "ipython3",
   "version": "3.10.6"
  },
  "orig_nbformat": 4
 },
 "nbformat": 4,
 "nbformat_minor": 2
}
