{
 "cells": [
  {
   "attachments": {},
   "cell_type": "markdown",
   "metadata": {},
   "source": [
    "**1) Subtraindo elementos usando funções de alta ordem**\n",
    "\n",
    "Em programação, temos que pensar não apenas na implementação do código propriamente dita para execução correta da tarefa desejada, como também na melhor forma de realizar esta implementação. Com isso, paradigmas de programação foram criados para auxiliar o programador a pensar diferente.\n",
    "\n",
    "Um desses paradigmas é o uso de funções de alta ordem, o que permite que realizemos diversas operações em coleções (listas, tuplas, arrays, etc) sem o uso de loops explicitamente.\n",
    "\n",
    "Um dos usos mais comuns é o uso de funções reduce, responsáveis por acumular uma operação ao longo de uma coleção. Sabendo disso, implemente uma função reduceSub() que recebe uma lista, e então faz uso do reduce para realizar a subtração dos números da lista com base no valor inicial 3."
   ]
  },
  {
   "cell_type": "code",
   "execution_count": 1,
   "metadata": {},
   "outputs": [
    {
     "data": {
      "text/plain": [
       "-30"
      ]
     },
     "execution_count": 1,
     "metadata": {},
     "output_type": "execute_result"
    }
   ],
   "source": [
    "from functools import reduce\n",
    "\n",
    "def reduceSub(listaA):\n",
    "\tsubtracao = lambda res, num: res - num\n",
    "\tresultado = reduce(subtracao, listaA, 3)\n",
    "\treturn resultado\n",
    "\n",
    "listaA = [9, 10, 10, 3, 1]\n",
    "reduceSub(listaA)"
   ]
  },
  {
   "attachments": {},
   "cell_type": "markdown",
   "metadata": {},
   "source": [
    "**2) Utilizando função lambda para calcular quadrado de números**\n",
    "\n",
    "Em programação, temos que pensar não apenas na implementação do código propriamente dita para execução correta da tarefa desejada, como também na melhor forma de realizar esta implementação. Com isso, paradigmas de programação foram criados para auxiliar o programador a pensar diferente.\n",
    "\n",
    "Um desses paradigmas é a programação funcional, cujo objetivo é aumentar o determinismo do programa de forma que, caso o programa seja escalável e se torne muito grande, os desenvolvedores não percam o controle do código. Uma forma de fazer programação funcional é por meio de funções lambdas, também conhecidas como \"funções anônimas\", tendo esse nome porque não precisam ser declaradas com um nome.\n",
    "\n",
    "Sabendo disso, crie uma função calcula_quadrado() que recebe uma lista e retorna os elementos desta lista ao quadrado, utilizando função lambda.\n",
    "\n",
    "OBS: em um cenário real, a função calcula_quadrado() seria utilizada para outras funcionalidades também além da utilização da lambda, de forma a melhorar o determinismo do código.\n",
    "\n",
    "OBS2: recomendável uso da função map."
   ]
  },
  {
   "cell_type": "code",
   "execution_count": 2,
   "metadata": {},
   "outputs": [
    {
     "data": {
      "text/plain": [
       "[9, 2401, 841, 64, 961]"
      ]
     },
     "execution_count": 2,
     "metadata": {},
     "output_type": "execute_result"
    }
   ],
   "source": [
    "def calcula_quadrado(listaA):\n",
    "\tnum_ao_quadr = lambda num: num ** 2\n",
    "\treturn list(map(num_ao_quadr, listaA))\n",
    "\n",
    "listaA = [3, 49, 29, 8, 31]\n",
    "calcula_quadrado(listaA)"
   ]
  },
  {
   "attachments": {},
   "cell_type": "markdown",
   "metadata": {},
   "source": [
    "**3) Mudança do delimitador do csv**\n",
    "\n",
    "Comumente precisamos lidar com informações que já foram armazenadas em outros locais antes da execução do programa, como uma planilha do excel, de forma a fazer algum processamento com estas informações. Digamos, por exemplo, que uma empresa tenha armazenado dados sobre as vendas dos últimos 5 anos e queira saber a média anual dessas vendas, podemos acessar estes dados por meio da leitura de arquivos no python para, posteriormente, realizar o cálculo da média. Similarmente, também podemos salvar informações em arquivos no Python para acesso futuro. Utilizando o mesmo exemplo do histórico de vendas, podemos realizar os cálculos de média anual e salvá-lo em um arquivo para enviar para o gerente de vendas.\n",
    "\n",
    "Sabendo disso, supondo que uma empresa armazenou seu histórico de vendas como um arquivo csv usando \", \" como delimitador, e agora deseje salvar um novo arquivo csv cujos valores sejam separados por \"\\t\". Faça uma funçãoconverte_sep() que receba uma string que contenha o conteúdo original do csv e retorna a string do arquivo csv com o novo separador."
   ]
  },
  {
   "cell_type": "code",
   "execution_count": 3,
   "metadata": {},
   "outputs": [
    {
     "data": {
      "text/plain": [
       "'data\\tproduto\\tquantidade\\tvalor\\tvalor_unitario\\n10/10/2021\\tventilador\\t2\\t120.00\\t60\\n19/10/2021\\tcadeira\\t2\\t335.55\\t167.77\\n07/07/2022\\tlampada\\t2\\t68.90\\t34,45'"
      ]
     },
     "execution_count": 3,
     "metadata": {},
     "output_type": "execute_result"
    }
   ],
   "source": [
    "def converte_sep(valores):\n",
    "\treturn valores.replace(\", \", \"\\t\")\n",
    "\n",
    "valores = \"data, produto, quantidade, valor, valor_unitario\\n10/10/2021, ventilador, 2, 120.00, 60\\n19/10/2021, cadeira, 2, 335.55, 167.77\\n07/07/2022, lampada, 2, 68.90, 34,45\"\n",
    "converte_sep(valores)"
   ]
  },
  {
   "attachments": {},
   "cell_type": "markdown",
   "metadata": {},
   "source": [
    "**4) Produto mais vendido no arquivo**\n",
    "\n",
    "Comumente precisamos lidar com informações que já foram armazenadas em outros locais antes da execução do programa, como uma planilha do excel, de forma a fazer algum processamento com estas informações. Digamos, por exemplo, que uma empresa tenha armazenado dados sobre as vendas dos últimos 5 anos e queira saber a média anual dessas vendas. Podemos acessar estes dados por meio da leitura de arquivos no python para, posteriormente, realizar o cálculo da média. Similarmente, também podemos salvar informações em arquivos no Python para acesso futuro. Utilizando o mesmo exemplo do histórico de vendas, podemos realizar os cálculos de média anual e salvá-lo em um arquivo para enviar para o gerente de vendas.\n",
    "\n",
    "Sabendo disso, crie uma função produto_mais_vendido() para ler um arquivo csv com as vendas de uma loja e retornar o nome do produto mais vendido (em termos de quantidades de vendas) conforme registrado no arquivo. A função receberá diretamente a string lida de um arquivo csv que usa \", \" como separador. No arquivo, temos as seguintes colunas: data, produto, quantidade, valor."
   ]
  },
  {
   "cell_type": "code",
   "execution_count": 71,
   "metadata": {},
   "outputs": [],
   "source": [
    "vendas_str = \"data, produto, quantidade, valor\\n20/10/2022, prato, 15, 20.00\\n19/20/2022, copo, 5, 5\\n07/07/2022, lampada, 3, 68.90\""
   ]
  },
  {
   "cell_type": "code",
   "execution_count": null,
   "metadata": {},
   "outputs": [],
   "source": [
    "# Visualizando semalhante a uma tabela\n",
    "vendas_str =\\\n",
    "\"\"\"\n",
    "   data    , produto , quantidade , valor \\n\n",
    "20/10/2022 ,  prato  ,     15     , 20.00 \\n\n",
    "19/20/2022 ,  copo   ,      5     ,  5    \\n\n",
    "07/07/2022 , lampada ,      3     , 68.90\n",
    "\"\"\""
   ]
  },
  {
   "cell_type": "code",
   "execution_count": 212,
   "metadata": {},
   "outputs": [
    {
     "data": {
      "text/plain": [
       "'prato'"
      ]
     },
     "execution_count": 212,
     "metadata": {},
     "output_type": "execute_result"
    }
   ],
   "source": [
    "# Modo 1:\n",
    "def produto_mais_vendido(vendas: str) -> str:\n",
    "    # separa dados de vendas\n",
    "    lista_vendas = vendas.replace(\"\\n\", \", \").split(\", \")\n",
    "\n",
    "    # separa as chaves e vendas\n",
    "    lista_chaves  = lista_vendas[:4].copy()\n",
    "    lista_valores = lista_vendas[4:].copy()\n",
    "\n",
    "    # dicitonário referente as vendas\n",
    "    dict_vendas = {}\n",
    "    count_chave = 0\n",
    "    for chave in lista_chaves:\n",
    "        for i in range(count_chave, len(lista_valores), 4):\n",
    "            if chave not in dict_vendas:\n",
    "                dict_vendas[chave] = [lista_valores[i]]\n",
    "            elif chave in dict_vendas:\n",
    "                dict_vendas[chave].append(lista_valores[i])\n",
    "        count_chave += 1\n",
    "    \n",
    "    # maior quantidade de vendas\n",
    "    maior_quant = max(dict_vendas['quantidade'], key=int)\n",
    "\n",
    "    # retorna produto mais vendido\n",
    "    lista_prod_mais_vendido = []\n",
    "    count = 0\n",
    "    for valor in dict_vendas['quantidade']:\n",
    "        if valor == maior_quant:\n",
    "            lista_prod_mais_vendido.append(dict_vendas['produto'][count])\n",
    "            break\n",
    "        count += 1\n",
    "    \n",
    "    return lista_prod_mais_vendido[0]\n",
    "\n",
    "\n",
    "produto_mais_vendido(vendas_str)"
   ]
  },
  {
   "cell_type": "code",
   "execution_count": 65,
   "metadata": {},
   "outputs": [
    {
     "data": {
      "text/plain": [
       "[['data', 'produto', 'quantidade', 'valor'],\n",
       " ['20/10/2022', 'prato', '15', '20.00'],\n",
       " ['19/20/2022', 'copo', '5', '5'],\n",
       " ['07/07/2022', 'lampada', '3', '68.90']]"
      ]
     },
     "execution_count": 65,
     "metadata": {},
     "output_type": "execute_result"
    }
   ],
   "source": [
    "# Teste para o modo 2\n",
    "# TESTANDO SEPARAR CARACTERS DA STRING\n",
    "lista_vendas = vendas_str.split(\"\\n\")\n",
    "\n",
    "novas_vendas = []\n",
    "for item in lista_vendas:\n",
    "    novas_vendas.append(item.split(\", \"))\n",
    "novas_vendas\n",
    "\n",
    "# resultado esperado!"
   ]
  },
  {
   "cell_type": "code",
   "execution_count": 211,
   "metadata": {},
   "outputs": [
    {
     "data": {
      "text/plain": [
       "'prato'"
      ]
     },
     "execution_count": 211,
     "metadata": {},
     "output_type": "execute_result"
    }
   ],
   "source": [
    "# Modo 2\n",
    "from functools import reduce\n",
    "\n",
    "def produto_mais_vendido(vendas: str) -> str:\n",
    "    # separa itens\n",
    "    linhas_vendas = vendas_str.split(\"\\n\")\n",
    "    lista_vendas  = [linha.split(\", \") for linha in linhas_vendas]\n",
    "    # ou\n",
    "    # cria_listas   = lambda texto, sep=\", \": texto.split(sep)\n",
    "    # linhas_vendas = cria_listas(vendas_str, \"\\n\")\n",
    "    # lista_vendas  = list(map(cria_listas, linhas_vendas))\n",
    "\n",
    "    \"\"\"\n",
    "    lista_vendas = [\n",
    "        ['data', 'produto', 'quantidade', 'valor'],\n",
    "        ['20/10/2022', 'prato', '15', '20.00'],\n",
    "        ['19/20/2022', 'copo', '5', '5'],\n",
    "        ['07/07/2022', 'lampada', '3', '68.90']\n",
    "    ]\n",
    "    \"\"\"\n",
    "\n",
    "    # separa os valores com os seus respectivos campos\n",
    "    lista_transposta = list(map(list, zip(*lista_vendas)))\n",
    "\n",
    "    \"\"\"\n",
    "    lista_transposta = [\n",
    "        ['data', '20/10/2022', '19/20/2022', '07/07/2022'],\n",
    "        ['produto', 'prato', 'copo', 'lampada'],\n",
    "        ['quantidade', '15', '5', '3'],\n",
    "        ['valor', '20.00', '5', '68.90']\n",
    "    ]\n",
    "    \"\"\"\n",
    "\n",
    "    # dicionário das vendas\n",
    "    dict_vendas = {\n",
    "        f\"{lista_transposta[i][0]}\": lista_transposta[i][1:] for i in range(len(lista_transposta))\n",
    "    }\n",
    "\n",
    "    \"\"\"\n",
    "    dict_vendas = {\n",
    "        \"data\"      : ['20/10/2022', '19/20/2022', '07/07/2022'],\n",
    "        \"produto\"   : ['prato', 'copo', 'lampada'],\n",
    "        \"quantidade\": ['15', '5', '3'],\n",
    "        \"valor\"     : ['20.00', '5', '68.90']\n",
    "    }\n",
    "    \"\"\"\n",
    "\n",
    "    # pega maior quantidade\n",
    "    maior_valor = lambda num1, num2: num2 if int(num1) < int(num2) else num1\n",
    "    maior_qnt_prod = reduce(maior_valor, dict_vendas['quantidade'])\n",
    "\n",
    "    # pega índice\n",
    "    index = dict_vendas[\"quantidade\"].index(maior_qnt_prod)\n",
    "\n",
    "    # pega produto com maior qnt\n",
    "    return dict_vendas[\"produto\"][index]\n",
    "\n",
    "produto_mais_vendido(vendas_str)\n",
    "\n",
    "# obs.: melhor essa versão do que a de utilizar o módulo csv \n",
    "#       porque a string pode vir com valores float separados por vírgula em vez de ponto"
   ]
  },
  {
   "attachments": {},
   "cell_type": "markdown",
   "metadata": {},
   "source": [
    "**5) MapReduce para cálculo de soma dos quadrados**\n",
    "\n",
    "Em programação, temos que pensar não apenas na implementação do código propriamente dita para execução correta da tarefa desejada, como também na melhor forma de realizar esta implementação. Com isso, paradigmas de programação foram criados para auxiliar o programador a pensar diferente.\n",
    "\n",
    "Um desses paradigmas é o uso de funções de alta ordem, o que permite que realizemos diversas operações em coleções (listas, tuplas, arrays, etc) sem o uso de loops explicitamente.\n",
    "\n",
    "Um dos usos mais comuns é o uso de funções reduce, responsáveis por acumular uma operação ao longo de uma coleção. Essa função é muito utilizada principalmente em ambientes big data juntamente com a função map.\n",
    "\n",
    "Sabendo disso, crie uma função ger_reduce() que recebe uma lista numérica, e retorna a soma dos quadrados destes números.\n",
    "\n",
    "Obs.: lembre-se que, em Python, devemos importar a função reduce do módulo functools!"
   ]
  },
  {
   "cell_type": "code",
   "execution_count": 220,
   "metadata": {},
   "outputs": [
    {
     "data": {
      "text/plain": [
       "4019"
      ]
     },
     "execution_count": 220,
     "metadata": {},
     "output_type": "execute_result"
    }
   ],
   "source": [
    "# Modo 1 (map/reduce)\n",
    "from functools import reduce\n",
    "\n",
    "def ger_reduce(listaA):\n",
    "    num_quadrados  = lambda num: num ** 2\n",
    "    soma_quadrados = lambda soma, num: soma + num\n",
    "    return reduce(soma_quadrados, list(map(num_quadrados, listaA)))\n",
    "\n",
    "lista_num = [1, 10, 5, 62, 7]\n",
    "ger_reduce(lista_num)"
   ]
  },
  {
   "cell_type": "code",
   "execution_count": 221,
   "metadata": {},
   "outputs": [
    {
     "data": {
      "text/plain": [
       "4019"
      ]
     },
     "execution_count": 221,
     "metadata": {},
     "output_type": "execute_result"
    }
   ],
   "source": [
    "# Modo 2 (só reduce)\n",
    "from functools import reduce\n",
    "\n",
    "def ger_reduce(listaA):\n",
    "    soma_quadrados = lambda soma, num: soma + (num ** 2)\n",
    "    return reduce(soma_quadrados, listaA)\n",
    "\n",
    "lista_num = [1, 10, 5, 62, 7]\n",
    "ger_reduce(lista_num)"
   ]
  },
  {
   "attachments": {},
   "cell_type": "markdown",
   "metadata": {},
   "source": [
    "**6) Dados tabulares como lista de listas**\n",
    "\n",
    "Em python, podemos trabalhar com dados tabulares em uma estrutura organizada na forma de lista de listas.\n",
    "\n",
    "Sabendo disso, crie uma função min_max_temperatura() que receba uma lista listas, cada uma com dois elementos: uma data, e uma temperatura. A função deve retornar uma lista com dois elementos: a data de temperatura máxima, e a data de temperatura mínima, nesta ordem."
   ]
  },
  {
   "cell_type": "code",
   "execution_count": 240,
   "metadata": {},
   "outputs": [
    {
     "data": {
      "text/plain": [
       "1"
      ]
     },
     "execution_count": 240,
     "metadata": {},
     "output_type": "execute_result"
    }
   ],
   "source": [
    "# Modo 1 (sem map e dict):\n",
    "def min_max_temperatura(temperaturas):\n",
    "    dict_temp = {\n",
    "        \"data\": [temp[0] for temp in temperaturas],\n",
    "        \"temperaturas\": [temp[1] for temp in temperaturas],\n",
    "    }\n",
    "\n",
    "    min_temp = min(dict_temp[\"temperaturas\"], key=float)\n",
    "    max_temp = max(dict_temp[\"temperaturas\"], key=float)\n",
    "\n",
    "    index_min = dict_temp[\"temperaturas\"].index(min_temp)\n",
    "    index_max = dict_temp[\"temperaturas\"].index(max_temp)\n",
    "\n",
    "    return [dict_temp[\"data\"][index_max], dict_temp[\"data\"][index_min]]\n",
    "\n",
    "\n",
    "\"\"\"\n",
    "lista_temp = [\n",
    "    ['<data>', <temperatura>]\n",
    "    ...\n",
    "]\n",
    "\"\"\"\n",
    "\n",
    "# retorno: [<data_temp_max>, <data_temp_min>]\n",
    "\n",
    "temperaturas = [\n",
    "    ['2023-05-10', 50.0],\n",
    "    ['2023-05-01', 48.0],\n",
    "    ['2023-05-08', 65.0],\n",
    "]\n",
    "\n",
    "min_max_temperatura(temperaturas)"
   ]
  },
  {
   "cell_type": "code",
   "execution_count": null,
   "metadata": {},
   "outputs": [],
   "source": [
    "# Modo 2 (usando map e sem dict)\n",
    "def min_max_temperatura(temperaturas):\n",
    "    lista_transposta = list(map(list, list(zip(*temperaturas))))\n",
    "    # lista_transposta = list(zip(*temperaturas))\n",
    "\n",
    "    index_min_temp = lista_transposta[1].index(min(lista_transposta[1]))\n",
    "    index_max_temp = lista_transposta[1].index(max(lista_transposta[1]))\n",
    "\n",
    "    return [lista_transposta[0][index_max_temp], lista_transposta[0][index_min_temp]]\n",
    "\n",
    "\n",
    "\"\"\"\n",
    "lista_temp = [\n",
    "    ['<data>', <temperatura>]\n",
    "    ...\n",
    "]\n",
    "\"\"\"\n",
    "\n",
    "# retorno: [<data_temp_max>, <data_temp_min>]\n",
    "\n",
    "temperaturas = [\n",
    "    ['2023-05-10', 50.0],\n",
    "    ['2023-05-01', 48.0],\n",
    "    ['2023-05-08', 65.0],\n",
    "]\n",
    "min_max_temperatura(temperaturas)"
   ]
  },
  {
   "attachments": {},
   "cell_type": "markdown",
   "metadata": {},
   "source": [
    "**7) Paridade de números por funções lambda**\n",
    "\n",
    "Em programação, temos que pensar não apenas na implementação do código propriamente dita para execução correta da tarefa desejada, como também na melhor forma de realizar esta implementação. Com isso, paradigmas de programação foram criados para auxiliar o programador a pensar diferente.\n",
    "\n",
    "Um desses paradigmas é a programação funcional, cujo objetivo é aumentar o determinismo do programa de forma que, caso o programa seja escalável e se torne muito grande, os desenvolvedores não percam o controle do código. Uma forma de fazer programação funcional é por meio de funções lambdas, também conhecidas como \"funções anônimas\", tendo esse nome porque não precisam ser declaradas com um nome.\n",
    "\n",
    "Sabendo disso, crie uma função div2() que recebe uma lista numérica e utiliza uma função lambda para retornar uma lista apenas com elementos da lista original que sejam divisíveis por 2.\n",
    "\n",
    "OBS: em um cenário real, a funçãodiv2() seria utilizada para outras funcionalidades também além da utilização da lambda, de forma a melhorar o determinismo do código."
   ]
  },
  {
   "cell_type": "code",
   "execution_count": 25,
   "metadata": {},
   "outputs": [
    {
     "data": {
      "text/plain": [
       "[30, 0, 24, 32]"
      ]
     },
     "execution_count": 25,
     "metadata": {},
     "output_type": "execute_result"
    }
   ],
   "source": [
    "# Modo 1 (com lambda):\n",
    "def div2(listaA):\n",
    "    num_par = lambda num: num % 2 == 0\n",
    "    return list(filter(num_par, listaA))\n",
    "\n",
    "listaA = [30, 35, 31, 0, 29, 24, 9, 32]\n",
    "div2(listaA)"
   ]
  },
  {
   "cell_type": "code",
   "execution_count": 1,
   "metadata": {},
   "outputs": [
    {
     "data": {
      "text/plain": [
       "[30, 0, 24, 32]"
      ]
     },
     "execution_count": 1,
     "metadata": {},
     "output_type": "execute_result"
    }
   ],
   "source": [
    "# Modo 2 (sem lambda):\n",
    "def div2(listaA):\n",
    "    lista_par = []\n",
    "    for num in listaA:\n",
    "        if num % 2 == 0:\n",
    "            lista_par.append(num)\n",
    "    \n",
    "    return lista_par\n",
    "\n",
    "listaA = [30, 35, 31, 0, 29, 24, 9, 32]\n",
    "div2(listaA)"
   ]
  },
  {
   "attachments": {},
   "cell_type": "markdown",
   "metadata": {},
   "source": [
    "**8) Total de vendas a partir de dados em arquivo**\n",
    "\n",
    "Comumente precisamos lidar com informações que já foram armazenadas em outros locais antes da execução do programa, como uma planilha do excel, de forma a fazer algum processamento com estas informações. Digamos, por exemplo, que uma empresa tenha armazenado dados sobre as vendas dos últimos 5 anos e queira saber a média anual dessas vendas. Podemos acessar estes dados por meio da leitura de arquivos no python para, posteriormente, realizar o cálculo da média. Similarmente, também podemos salvar informações em arquivos no Python para acesso futuro. Utilizando o mesmo exemplo do histórico de vendas, podemos realizar os cálculos de média anual e salvá-lo em um arquivo para enviar para o gerente de vendas.\n",
    "\n",
    "Sabendo disso, crie uma função media_vendas() para ler um arquivo csv e retornar o total de vendas no período. A função receberá diretamente a string lida de um arquivo csv que usa \", \" como separador. No arquivo, temos as seguintes colunas: data, produto, quantidade, valor. Note que a coluna \"valor\" corresponde ao preço unitário de cada produto, não o valor total da compra. Nosso objetivo é calcular o total de vendas, considerando todos os produtos registrados no arquivo.\n",
    "\n",
    "Obs.: arredonde a resposta final para duas casas decimais."
   ]
  },
  {
   "cell_type": "code",
   "execution_count": 62,
   "metadata": {},
   "outputs": [
    {
     "data": {
      "text/plain": [
       "662.25"
      ]
     },
     "execution_count": 62,
     "metadata": {},
     "output_type": "execute_result"
    }
   ],
   "source": [
    "# Fazendo diferente do que foi feito na questão 4\n",
    "import csv\n",
    "from functools import reduce\n",
    "\n",
    "def calc_total_vendas(vendas):\n",
    "    lista_dados_vendas = list(csv.DictReader(vendas.replace(\", \", \",\").split(\"\\n\"), delimiter=\",\"))\n",
    "    calc_vendas = lambda total, dict_venda: total + round((int(dict_venda[\"quantidade\"]) * float(dict_venda[\"valor\"])), 2)\n",
    "    total_vendas = reduce(calc_vendas, lista_dados_vendas, 0)\n",
    "\n",
    "    return total_vendas\n",
    "\n",
    "vendas = \"data, produto, quantidade, valor\\n20/10/2022, ventilador, 1, 120.00\\n19/20/2022, cadeira, 1, 335.55\\n07/07/2022, lampada, 3, 68.90\"\n",
    "calc_total_vendas(vendas)"
   ]
  }
 ],
 "metadata": {
  "kernelspec": {
   "display_name": "Python 3",
   "language": "python",
   "name": "python3"
  },
  "language_info": {
   "codemirror_mode": {
    "name": "ipython",
    "version": 3
   },
   "file_extension": ".py",
   "mimetype": "text/x-python",
   "name": "python",
   "nbconvert_exporter": "python",
   "pygments_lexer": "ipython3",
   "version": "3.10.6"
  },
  "orig_nbformat": 4
 },
 "nbformat": 4,
 "nbformat_minor": 2
}
