{
 "cells": [
  {
   "attachments": {},
   "cell_type": "markdown",
   "metadata": {},
   "source": [
    "**1) Slice**\n",
    "\n",
    "Apesar de utilizarmos listas para armazenar vários elementos, existem situações em que precisamos utilizar apenas parte desta lista. Por exemplo, podemos guardar em uma lista de 30 elementos com o registro do preço do dólar a cada dia nos últimos 30 dias. Posteriormente, podemos querer visualizar o custo do dólar apenas nos últimos 7 dias, para isso pegando os últimos 7 elementos da lista ao invés de 30.\n",
    "\n",
    "Em python, quando selecionamos partes da lista, denominamos esta operação de slicing, podendo ser realizada não apenas para seleção dos últimos elementos da lista, como também elementos em qualquer posição da lista.\n",
    "\n",
    "Sabendo disso, crie uma função particionarLista() em python que recebe uma lista e retorne apenas os elementos das posições 5 até 12."
   ]
  },
  {
   "cell_type": "code",
   "execution_count": 1,
   "metadata": {},
   "outputs": [
    {
     "data": {
      "text/plain": [
       "[47, 49, 39, 9, 45, 13, 37]"
      ]
     },
     "execution_count": 1,
     "metadata": {},
     "output_type": "execute_result"
    }
   ],
   "source": [
    "def particionarLista(listaA):\n",
    "\treturn listaA[5:12]\n",
    "\n",
    "listaA = [47, 27, 25, 27, 13, 47, 49, 39, 9, 45, 13, 37]\n",
    "particionarLista(listaA)"
   ]
  },
  {
   "attachments": {},
   "cell_type": "markdown",
   "metadata": {},
   "source": [
    "**2) Remover elementos de listas**\n",
    "\n",
    "Considere que uma empresa desenvolveu uma aplicação que solicita ao usuário uma dada informação, como, por exemplo, o segundo nome deste usuário. O programa recebe essa informação e armazena em uma lista de strings. Entretanto, caso um usuário acidentalmente não tenha preenchido esta informação, a lista conterá elementos vazios. Por exemplo, dada uma lista com 5 nomes: listaDeNomes = ['Araújo', 'Alexandre', 'Silva', 'Flávio', ''], note que o último elemento da lista é apenas uma string vazia representada pelas aspas vazias.\n",
    "\n",
    "Sabendo disso, faça uma função removerElementosVazios() que recebe uma lista de nomes e retorna a lista sem os elementos vazios."
   ]
  },
  {
   "cell_type": "code",
   "execution_count": 2,
   "metadata": {},
   "outputs": [
    {
     "data": {
      "text/plain": [
       "['Maria', 'Coutinho']"
      ]
     },
     "execution_count": 2,
     "metadata": {},
     "output_type": "execute_result"
    }
   ],
   "source": [
    "def removerElementosVazios(listaA):\n",
    "\twhile '' in listaA:\n",
    "\t\tlistaA.remove('')\n",
    "\t\n",
    "\treturn listaA\n",
    "\n",
    "listaA = [\"Maria\", \"Coutinho\"]\n",
    "removerElementosVazios(listaA)"
   ]
  },
  {
   "attachments": {},
   "cell_type": "markdown",
   "metadata": {},
   "source": [
    "**3) Elementos individuais de listas**\n",
    "\n",
    "Muitas vezes, precisamos acessar elementos individuais de listas, o que é possível de ser feito a partir de sua indexação.\n",
    "\n",
    "Sabendo disso, crie uma função retornaPenultimoEQuartoElementodeLista() que recebe uma lista e retorne o quarto e o penúltimo elemento desta lista, nesta ordem."
   ]
  },
  {
   "cell_type": "code",
   "execution_count": 3,
   "metadata": {},
   "outputs": [
    {
     "data": {
      "text/plain": [
       "[15, 6]"
      ]
     },
     "execution_count": 3,
     "metadata": {},
     "output_type": "execute_result"
    }
   ],
   "source": [
    "def retornaPenultimoEQuartoElementodeLista(listaA):\n",
    "\treturn [listaA[3], listaA[-2]]\n",
    "\n",
    "listaA = [18, 44, 44, 15, 9, 61, 14, 34, 6, 29]\n",
    "retornaPenultimoEQuartoElementodeLista(listaA)"
   ]
  },
  {
   "attachments": {},
   "cell_type": "markdown",
   "metadata": {},
   "source": [
    "**4) Função zip**\n",
    "\n",
    "Em programação, podemos fazer uso de diferentes listas para armazenar nossos dados para, posteriormente, unir informações destas listas. Por exemplo, podemos guardar em uma lista os nomes de funcionários de uma empresa e, em outra lista, os cargos que estes funcionários ocupam.\n",
    "\n",
    "funcionarios = [\"Paulo\", \"Andrea\", \"Marta\"]\n",
    "profissao = [\"cientista de dados\", \"engenheiro de dados\", \"desenvolvedor\"]\n",
    "Dado essas duas listas, podemos querer exibir as duas informações conjuntamente da seguinte forma:\n",
    "\n",
    "[('Paulo', 'cientista de dados'), ('Andrea', 'engenheiro de dados'), ('Marta', 'desenvolvedor')]\n",
    "Podemos fazer isto por meio da função zip que recebe as duas listas e retorna uma saída como exposta acima. Além de exibir os valores, podemos fazer uso da função zip para diversas funcionalidades. Sabendo disso, crie uma função ultimoElementoLista2D() que receba uma lista de duas dimensões (isto é, uma lista de listas, na forma de matriz) e utilize o zip para retornar o último elemento de cada sublista.\n",
    "\n",
    "Por exemplo, se tivermos a lista abaixo:\n",
    "\n",
    "[[192, 193, 194],\n",
    " [507, 508, 509],\n",
    " [526, 527, 528, 529],\n",
    " [560, 561],\n",
    " [635, 636, 637]]\n",
    "Retorne [194, 509, 529, 561, 637]."
   ]
  },
  {
   "cell_type": "code",
   "execution_count": 13,
   "metadata": {},
   "outputs": [
    {
     "data": {
      "text/plain": [
       "[194, 509, 529, 561, 637]"
      ]
     },
     "execution_count": 13,
     "metadata": {},
     "output_type": "execute_result"
    }
   ],
   "source": [
    "# Modo 1 (sem lambda e map)\n",
    "def ultimoElementoLista2D(listaA):\n",
    "\t# inverte lista dentro da listaA\n",
    "\tlista_invertida = [list_[::-1] for list_ in listaA]\n",
    "\n",
    "\t# zip elementos e converta em lista\n",
    "\treturn list(list(zip(*lista_invertida))[0])\n",
    "\n",
    "\n",
    "listaA = [\n",
    "\t[192, 193, 194],\n",
    "\t[507, 508, 509],\n",
    "\t[526, 527, 528, 529],\n",
    "\t[560, 561],\n",
    "\t[635, 636, 637]\n",
    "]\n",
    "\n",
    "ultimoElementoLista2D(listaA)"
   ]
  },
  {
   "cell_type": "code",
   "execution_count": null,
   "metadata": {},
   "outputs": [],
   "source": [
    "# Modo 2 (sem lambda e map)\n",
    "def ultimoElementoLista2D(listaA):\n",
    "\t# inverte lista dentro da listaA\n",
    "\tlista_invertida = list(map(lambda x: x[::-1], listaA))\n",
    "\n",
    "\t# zip elementos e converta em lista\n",
    "\treturn list(list(zip(*lista_invertida))[0])\n",
    "\n",
    "listaA = [\n",
    "\t[192, 193, 194],\n",
    "\t[507, 508, 509],\n",
    "\t[526, 527, 528, 529],\n",
    "\t[560, 561],\n",
    "\t[635, 636, 637]\n",
    "]\n",
    "\n",
    "ultimoElementoLista2D(listaA)"
   ]
  },
  {
   "attachments": {},
   "cell_type": "markdown",
   "metadata": {},
   "source": [
    "**5) Indexação de listas e último elemento**\n",
    "\n",
    "Uma lista possui n elementos, sendo comum executarmos determinadas ações em um elemento de determinada posição. Por exemplo, podemos substituir o elemento da primeira posição da lista por outro valor desejado. Quando selecionamos um elemento, chamamos isto de indexação.\n",
    "\n",
    "Sendo assim, escreva uma função ultimoElemento() em python que recebe uma lista e retorna o último elemento da lista."
   ]
  },
  {
   "cell_type": "code",
   "execution_count": 8,
   "metadata": {},
   "outputs": [
    {
     "data": {
      "text/plain": [
       "85"
      ]
     },
     "execution_count": 8,
     "metadata": {},
     "output_type": "execute_result"
    }
   ],
   "source": [
    "def ultimoElemento(listaA):\n",
    "\treturn listaA[-1]\n",
    "\n",
    "listaA = [20, 88, 55, 7, 85]\n",
    "ultimoElemento(listaA)"
   ]
  },
  {
   "attachments": {},
   "cell_type": "markdown",
   "metadata": {},
   "source": [
    "**6) Elemento e índice**\n",
    "\n",
    "Em python, muitas vezes é útil iterarmos tanto pelos elementos quanto pelos índices de listas. Sabendo disso, crie uma função calculaPotencia() que recebe uma lista A e retorna uma lista B, tal que os elementos desta lista sejam iguais aos elementos da lista A elevado a potência igual ao índice do respectivo elemento.\n",
    "\n",
    "Por exemplo, dado uma lista A = [2,5,6], gere uma lista B = [2^0, 5^1, 6^2]."
   ]
  },
  {
   "cell_type": "code",
   "execution_count": 9,
   "metadata": {},
   "outputs": [
    {
     "data": {
      "text/plain": [
       "[1, 40]"
      ]
     },
     "execution_count": 9,
     "metadata": {},
     "output_type": "execute_result"
    }
   ],
   "source": [
    "def calculaPotencia(listaA):\n",
    "\treturn [listaA[i]**i for i in range(len(listaA))]\n",
    "\n",
    "listaA = [24, 40]\n",
    "calculaPotencia(listaA)"
   ]
  },
  {
   "attachments": {},
   "cell_type": "markdown",
   "metadata": {},
   "source": [
    "**7) Adicionar elementos em listas**\n",
    "\n",
    "Quando utilizamos listas, uma das vantagens é que podemos adicionar novos elementos com o passar do tempo. Podemos inserir elementos tanto ao final da lista, como também em uma posição específica.\n",
    "\n",
    "Sabendo disso, faça uma função adicionarElemento() que recebe uma lista de números e insere o número inteiro 42 no meio da lista (isto é, em sua posição central). Note que a posição de inserção pode variar a depender da quantidade de elementos na lista original."
   ]
  },
  {
   "cell_type": "code",
   "execution_count": 10,
   "metadata": {},
   "outputs": [
    {
     "data": {
      "text/plain": [
       "[44, 38, 38, 42, 42, 4, 8, 33]"
      ]
     },
     "execution_count": 10,
     "metadata": {},
     "output_type": "execute_result"
    }
   ],
   "source": [
    "def adicionarElemento(listaA):\n",
    "\tposicao_central = (len(listaA) // 2) if len(listaA) % 2 == 0 else (len(listaA) // 2) + 1\n",
    "\n",
    "\tlistaA.insert(posicao_central, 42)\n",
    "\treturn listaA\n",
    "\n",
    "listaA = [44, 38, 38, 42, 4, 8, 33]\n",
    "adicionarElemento(listaA)"
   ]
  },
  {
   "attachments": {},
   "cell_type": "markdown",
   "metadata": {},
   "source": [
    "**8) Ordenando listas**\n",
    "\n",
    "Em um sistema, comumente utilizamos listas para armazenamento de dados. Entretanto, existem casos em que torna-se necessário criarmos um padrão de organização dos dados. Por exemplo, podemos organizar um cadastro de clientes pela idade destes usuários. Este procedimento de organização é conhecido como ordenação.\n",
    "\n",
    "Sabendo disso, crie uma função chamada ordena_lista() que recebe uma lista de elementos e ordene-os em ordem decrescente. A função possui como parâmetro a lista a ser ordenada e retorna a mesma lista ordenada de forma decrescente."
   ]
  },
  {
   "cell_type": "code",
   "execution_count": 11,
   "metadata": {},
   "outputs": [
    {
     "data": {
      "text/plain": [
       "[100, 88, 32, 27, 14, 5, 2, 0]"
      ]
     },
     "execution_count": 11,
     "metadata": {},
     "output_type": "execute_result"
    }
   ],
   "source": [
    "def ordena_lista(listaA):\n",
    "\tlistaA.sort(reverse=True)\n",
    "\treturn listaA\n",
    "\n",
    "listaA = [100, 88, 32, 27, 14, 5, 2, 0]\n",
    "ordena_lista(listaA)"
   ]
  },
  {
   "cell_type": "code",
   "execution_count": null,
   "metadata": {},
   "outputs": [],
   "source": [
    "def ultimoElementoLista2D(listaA):\n",
    "\t# inverte lista dentro da listaA\n",
    "\tlista_invertida = [list_[::-1] for list_ in listaA]\n",
    "\n",
    "\t# zip elementos e converta em lista\n",
    "\treturn list(zip(*lista_invertida))[0]\n",
    "\n",
    "\n"
   ]
  }
 ],
 "metadata": {
  "kernelspec": {
   "display_name": "Python 3",
   "language": "python",
   "name": "python3"
  },
  "language_info": {
   "codemirror_mode": {
    "name": "ipython",
    "version": 3
   },
   "file_extension": ".py",
   "mimetype": "text/x-python",
   "name": "python",
   "nbconvert_exporter": "python",
   "pygments_lexer": "ipython3",
   "version": "3.10.6"
  },
  "orig_nbformat": 4
 },
 "nbformat": 4,
 "nbformat_minor": 2
}
