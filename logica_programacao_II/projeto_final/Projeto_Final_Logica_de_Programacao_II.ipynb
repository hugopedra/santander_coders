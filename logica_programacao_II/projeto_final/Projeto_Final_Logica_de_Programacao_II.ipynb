{
 "cells": [
  {
   "cell_type": "markdown",
   "metadata": {},
   "source": [
    "# Sistema de Cadastro\n",
    "\n",
    "Tua missão é construir um sistema de cadastro de pessoas. Ele precisará atender aos seguintes requisitos:\n",
    "\n",
    "\n",
    "## Menu principal\n",
    "Ao iniciar o programa o seguinte menu deve ser imprimido:\n",
    "\n",
    "```\n",
    "Boas vindas ao nosso sistema:\n",
    "\n",
    "1 - Inserir usuário\n",
    "2 - Excluir usuário\n",
    "3 - Atualizar usuário\n",
    "4 - Informações de um usuário\n",
    "5 - Informações de todos os usuários\n",
    "6 - Sair\n",
    "\n",
    "```"
   ]
  },
  {
   "cell_type": "code",
   "execution_count": 1,
   "metadata": {},
   "outputs": [],
   "source": [
    "# import pacotes\n",
    "import json"
   ]
  },
  {
   "cell_type": "markdown",
   "metadata": {},
   "source": [
    "### Inicialização\n",
    "\n",
    "O programa deve iniciar lendo um arquivo com usuários já cadastrados - recomenda-se ter uma função dedicada apenas a ler e a salvar o arquivo."
   ]
  },
  {
   "cell_type": "code",
   "execution_count": null,
   "metadata": {},
   "outputs": [],
   "source": [
    "def ler_salvar_arquivos(caminho_arquivo, dados=None, ler=True):\n",
    "    if ler:\n",
    "        try:\n",
    "            dados = json.load(open(caminho_arquivo, 'r'))\n",
    "        except FileNotFoundError as e:\n",
    "            print(\"Arquivo não encontrado. Erro:\", str(e))\n",
    "        except json.JSONDecodeError as e:\n",
    "            print(\"Erro para decodificar arquivo:\", str(e))\n",
    "        except Exception as e:\n",
    "            print(\"Erro desconhecido (função ler_arquivos):\", str(e))\n",
    "        else:\n",
    "            return dados\n",
    "    \n",
    "    else:\n",
    "        json.dump(dados, open(caminho_arquivo, \"w\"), indent=4, ensure_ascii=False)\n",
    "\n",
    "# lê dados antes de iniciar operações\n",
    "dados_json = ler_salvar_arquivos(caminho_arquivo=\"./projetoModuloII.json\", dados=None, ler=True)"
   ]
  }
 ],
 "metadata": {
  "kernelspec": {
   "display_name": "Python 3",
   "language": "python",
   "name": "python3"
  },
  "language_info": {
   "codemirror_mode": {
    "name": "ipython",
    "version": 3
   },
   "file_extension": ".py",
   "mimetype": "text/x-python",
   "name": "python",
   "nbconvert_exporter": "python",
   "pygments_lexer": "ipython3",
   "version": "3.10.8"
  },
  "orig_nbformat": 4
 },
 "nbformat": 4,
 "nbformat_minor": 2
}
